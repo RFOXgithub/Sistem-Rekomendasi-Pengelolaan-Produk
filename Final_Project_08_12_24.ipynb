{
  "cells": [
    {
      "cell_type": "markdown",
      "metadata": {
        "id": "view-in-github",
        "colab_type": "text"
      },
      "source": [
        "<a href=\"https://colab.research.google.com/github/RFOXgithub/Sistem-Rekomendasi-Pengelolaan-Produk/blob/main/Final_Project_08_12_24.ipynb\" target=\"_parent\"><img src=\"https://colab.research.google.com/assets/colab-badge.svg\" alt=\"Open In Colab\"/></a>"
      ]
    },
    {
      "cell_type": "code",
      "execution_count": null,
      "id": "5272a137-bac9-4e92-b95e-3ad4d2a55873",
      "metadata": {
        "id": "5272a137-bac9-4e92-b95e-3ad4d2a55873"
      },
      "outputs": [],
      "source": [
        "import pandas as pd\n",
        "import numpy as np\n",
        "import seaborn as sns\n",
        "import re\n",
        "import matplotlib.pyplot as plt\n",
        "\n",
        "from sklearn.preprocessing import OneHotEncoder, LabelEncoder\n",
        "from sklearn.preprocessing import MinMaxScaler\n",
        "from sklearn.model_selection import train_test_split\n",
        "from sklearn.metrics import accuracy_score, precision_score, recall_score, f1_score\n",
        "from sklearn.ensemble import RandomForestClassifier\n",
        "from sklearn.model_selection import cross_val_score\n",
        "from sklearn.svm import SVC\n",
        "from sklearn.model_selection import GridSearchCV\n",
        "from imblearn.over_sampling import SMOTE\n",
        "from imblearn.under_sampling import RandomUnderSampler"
      ]
    },
    {
      "cell_type": "code",
      "execution_count": null,
      "id": "4dbd857c-46ab-453c-9cf5-9e79c1f79ea0",
      "metadata": {
        "id": "4dbd857c-46ab-453c-9cf5-9e79c1f79ea0"
      },
      "outputs": [],
      "source": [
        "#Ambil data hasil scraping"
      ]
    },
    {
      "cell_type": "code",
      "execution_count": null,
      "id": "8704ef23-6fb2-4682-b6a4-4670a3bfbf5f",
      "metadata": {
        "id": "8704ef23-6fb2-4682-b6a4-4670a3bfbf5f"
      },
      "outputs": [],
      "source": [
        "data1 = pd.read_csv(r'D:\\Project\\Anaconda\\Jupyter Notebook\\data-mining-fp-71-hp.csv')\n",
        "data2 = pd.read_csv(r'D:\\Project\\Anaconda\\Jupyter Notebook\\data-mining-fp-60-tablet.csv')\n",
        "data3 = pd.read_csv(r'D:\\Project\\Anaconda\\Jupyter Notebook\\data-mining-fp-65-laptop.csv')\n",
        "data4 = pd.read_csv(r'D:\\Project\\Anaconda\\Jupyter Notebook\\data-mining-fp-73-pc.csv')\n",
        "data5 = pd.read_csv(r'D:\\Project\\Anaconda\\Jupyter Notebook\\data-mining-fp-73-game.csv')\n",
        "data6 = pd.read_csv(r'D:\\Project\\Anaconda\\Jupyter Notebook\\data-mining-fp-75-speaker.csv')\n",
        "data7 = pd.read_csv(r'D:\\Project\\Anaconda\\Jupyter Notebook\\data-mining-fp-140-skincare.csv')\n",
        "data8 = pd.read_csv(r'D:\\Project\\Anaconda\\Jupyter Notebook\\data-mining-fp-61-smart.csv')\n",
        "data9 = pd.read_csv(r'D:\\Project\\Anaconda\\Jupyter Notebook\\data-mining-fp-84-xbox.csv')\n",
        "data10 = pd.read_csv(r'D:\\Project\\Anaconda\\Jupyter Notebook\\data-mining-fp-87-vitamin.csv')\n",
        "data11 = pd.read_csv(r'D:\\Project\\Anaconda\\Jupyter Notebook\\data-mining-fp-190-style.csv')\n",
        "data12 = pd.read_csv(r'D:\\Project\\Anaconda\\Jupyter Notebook\\data-mining-fp-194-denim.csv')\n",
        "\n",
        "df = pd.concat([data1, data2, data3, data4, data5, data6, data7, data8, data9, data10, data11, data12], ignore_index=True)"
      ]
    },
    {
      "cell_type": "code",
      "execution_count": null,
      "id": "c66c3a2d-706e-4887-9b52-ca9c24337952",
      "metadata": {
        "id": "c66c3a2d-706e-4887-9b52-ca9c24337952"
      },
      "outputs": [],
      "source": [
        "#Simpan data dan read data"
      ]
    },
    {
      "cell_type": "code",
      "execution_count": null,
      "id": "b15b41c0-d674-4072-9969-2ff5e9035be8",
      "metadata": {
        "id": "b15b41c0-d674-4072-9969-2ff5e9035be8"
      },
      "outputs": [],
      "source": [
        "#df.to_csv(r'final-project/data-final-project-raw.csv', index=False)\n",
        "#df = pd.read_csv(r'final-project/data-final-project-raw.csv')"
      ]
    },
    {
      "cell_type": "code",
      "execution_count": null,
      "id": "02bfa115-e84d-4e75-9131-d6978bd5bd0c",
      "metadata": {
        "id": "02bfa115-e84d-4e75-9131-d6978bd5bd0c",
        "outputId": "5920b354-f93a-47b4-9138-55eb5328b75e"
      },
      "outputs": [
        {
          "data": {
            "text/html": [
              "<div>\n",
              "<style scoped>\n",
              "    .dataframe tbody tr th:only-of-type {\n",
              "        vertical-align: middle;\n",
              "    }\n",
              "\n",
              "    .dataframe tbody tr th {\n",
              "        vertical-align: top;\n",
              "    }\n",
              "\n",
              "    .dataframe thead th {\n",
              "        text-align: right;\n",
              "    }\n",
              "</style>\n",
              "<table border=\"1\" class=\"dataframe\">\n",
              "  <thead>\n",
              "    <tr style=\"text-align: right;\">\n",
              "      <th></th>\n",
              "      <th>nama_produk</th>\n",
              "      <th>harga</th>\n",
              "      <th>desc</th>\n",
              "      <th>terjual</th>\n",
              "      <th>total_rating</th>\n",
              "      <th>avg_rating</th>\n",
              "      <th>stock</th>\n",
              "      <th>os</th>\n",
              "      <th>kategori</th>\n",
              "      <th>store</th>\n",
              "    </tr>\n",
              "  </thead>\n",
              "  <tbody>\n",
              "    <tr>\n",
              "      <th>0</th>\n",
              "      <td>Official Redmi A3 | Layar Muluz 90 Hz berukura...</td>\n",
              "      <td>Rp1.299.000</td>\n",
              "      <td>Desain Inovatif: Desain kamera deco yang memik...</td>\n",
              "      <td>Terjual 4 rb+</td>\n",
              "      <td>(1.956 rating)</td>\n",
              "      <td>4.9</td>\n",
              "      <td>Stok: 274</td>\n",
              "      <td>Android OS</td>\n",
              "      <td>Handphone</td>\n",
              "      <td>Xiaomi Official Store</td>\n",
              "    </tr>\n",
              "    <tr>\n",
              "      <th>1</th>\n",
              "      <td>vivo Y100 (8/256) - Magical Color Changing, 80...</td>\n",
              "      <td>Rp2.659.000</td>\n",
              "      <td>Y100 4G 8/256</td>\n",
              "      <td>Terjual 100+</td>\n",
              "      <td>(77 rating)</td>\n",
              "      <td>4.9</td>\n",
              "      <td>Stok: 131</td>\n",
              "      <td>Android OS</td>\n",
              "      <td>Handphone</td>\n",
              "      <td>vivo Indonesia</td>\n",
              "    </tr>\n",
              "    <tr>\n",
              "      <th>2</th>\n",
              "      <td>TONER HP 87A BLACK ORIGINAL</td>\n",
              "      <td>Rp1.100.000</td>\n",
              "      <td>Toner Hp 87AHP LaserJet Black Toner Cartridge ...</td>\n",
              "      <td>No data available</td>\n",
              "      <td>No data available</td>\n",
              "      <td>No data available</td>\n",
              "      <td>Stok Total: 10000</td>\n",
              "      <td>Toner Printer</td>\n",
              "      <td>Printer</td>\n",
              "      <td>TUNAS-STATIONARY</td>\n",
              "    </tr>\n",
              "    <tr>\n",
              "      <th>3</th>\n",
              "      <td>HP Hot 40 Pro 16GB+512GB HD Handphone android ...</td>\n",
              "      <td>Rp880.000</td>\n",
              "      <td>✅ Produk memiliki masa garansi✅ Semua produk d...</td>\n",
              "      <td>Terjual 24</td>\n",
              "      <td>(17 rating)</td>\n",
              "      <td>4.5</td>\n",
              "      <td>Stok: 497</td>\n",
              "      <td>Android OS</td>\n",
              "      <td>Handphone</td>\n",
              "      <td>hp reno11 pro</td>\n",
              "    </tr>\n",
              "    <tr>\n",
              "      <th>4</th>\n",
              "      <td>HP XIOMI REDMI NOTE 12 8/128GB // 8/256GB GARA...</td>\n",
              "      <td>Rp1.700.000</td>\n",
              "      <td>NETWORKTechnologyGSM / HSPA / LTEBODYDimension...</td>\n",
              "      <td>Terjual 5</td>\n",
              "      <td>(2 rating)</td>\n",
              "      <td>5</td>\n",
              "      <td>Stok: Sisa 7</td>\n",
              "      <td>Android OS</td>\n",
              "      <td>Handphone</td>\n",
              "      <td>Gadget Store electronic</td>\n",
              "    </tr>\n",
              "  </tbody>\n",
              "</table>\n",
              "</div>"
            ],
            "text/plain": [
              "                                         nama_produk        harga  \\\n",
              "0  Official Redmi A3 | Layar Muluz 90 Hz berukura...  Rp1.299.000   \n",
              "1  vivo Y100 (8/256) - Magical Color Changing, 80...  Rp2.659.000   \n",
              "2                        TONER HP 87A BLACK ORIGINAL  Rp1.100.000   \n",
              "3  HP Hot 40 Pro 16GB+512GB HD Handphone android ...    Rp880.000   \n",
              "4  HP XIOMI REDMI NOTE 12 8/128GB // 8/256GB GARA...  Rp1.700.000   \n",
              "\n",
              "                                                desc            terjual  \\\n",
              "0  Desain Inovatif: Desain kamera deco yang memik...      Terjual 4 rb+   \n",
              "1                                      Y100 4G 8/256       Terjual 100+   \n",
              "2  Toner Hp 87AHP LaserJet Black Toner Cartridge ...  No data available   \n",
              "3  ✅ Produk memiliki masa garansi✅ Semua produk d...         Terjual 24   \n",
              "4  NETWORKTechnologyGSM / HSPA / LTEBODYDimension...          Terjual 5   \n",
              "\n",
              "        total_rating         avg_rating              stock             os  \\\n",
              "0     (1.956 rating)                4.9          Stok: 274     Android OS   \n",
              "1        (77 rating)                4.9          Stok: 131     Android OS   \n",
              "2  No data available  No data available  Stok Total: 10000  Toner Printer   \n",
              "3        (17 rating)                4.5          Stok: 497     Android OS   \n",
              "4         (2 rating)                  5       Stok: Sisa 7     Android OS   \n",
              "\n",
              "    kategori                    store  \n",
              "0  Handphone    Xiaomi Official Store  \n",
              "1  Handphone           vivo Indonesia  \n",
              "2    Printer         TUNAS-STATIONARY  \n",
              "3  Handphone            hp reno11 pro  \n",
              "4  Handphone  Gadget Store electronic  "
            ]
          },
          "execution_count": 6,
          "metadata": {},
          "output_type": "execute_result"
        }
      ],
      "source": [
        "#Preprocessing dan Analysis\n",
        "df.head()"
      ]
    },
    {
      "cell_type": "code",
      "execution_count": null,
      "id": "9d8dc30b-d2c3-49f6-8f81-0e34e4169f76",
      "metadata": {
        "id": "9d8dc30b-d2c3-49f6-8f81-0e34e4169f76"
      },
      "outputs": [],
      "source": [
        "#Generalisasi atribut kategori\n",
        "kelompok_kategori = {\n",
        "    'Elektronik': ['Handphone', 'Printer', 'Tablet', 'Laptop', 'Desktop & Mini PC',\n",
        "                   'PC & Laptop Gaming', 'Game Console', 'CD Game', 'Audio', 'TV & Aksesoris',\n",
        "                   'Lampu', 'Wearable Devices', 'Aksesoris Game Console', 'Monitor'],\n",
        "    'Lainnya': ['Vitamin & Suplemen', 'Grooming', 'Eyebrow Kit', 'Persiapan Pernikahan', 'Document Organizer',\n",
        "                'Perlengkapan Medis', 'Frame, Album & Roll Film', 'Aksesoris Muslim', 'Penyimpanan Makanan',\n",
        "                'Bridal', 'Perlengkapan Kebersihan'],\n",
        "    'Gadget & Elektronik Musik': ['Game Console', 'Gitar & Bass'],\n",
        "    'Perawatan Pribadi': ['Masker Kecantikan', 'Perawatan Wajah', 'Perawatan Rambut', 'Styling Rambut Wanita'],\n",
        "    'Peralatan Rumah Tangga': ['Peralatan Makan & Minum', 'Tempat Penyimpanan', 'Peralatan Dapur', 'Aksesoris Dapur',\n",
        "                               'Kebersihan', 'Ruang Tamu & Keluarga', 'Kamar Tidur', 'Kamar Mandi'],\n",
        "    'Olahraga & Outdoor': ['Sepak Bola & Futsal', 'Aksesoris Olahraga', 'Basket', 'Boxing', 'Golf', 'Hiking & Camping',\n",
        "                            'Pakaian Olahraga Pria', 'Pakaian Olahraga Wanita'],\n",
        "    'Pakaian & Fashion': ['Pakaian Dalam Wanita', 'Aksesoris Pria', 'Aksesoris Wanita', 'Aksesoris Sepatu Wanita',\n",
        "                          'Pakaian Anak Perempuan', 'Jeans & Denim Wanita', 'Sepatu Wanita', 'Bawahan Wanita',\n",
        "                          'Dress Muslim Wanita', 'Sepatu Pria', 'Atasan Wanita', 'Outerwear Pria', 'Outerwear Wanita',\n",
        "                          'Atasan Pria', 'Jeans & Denim Pria', 'Topi Pria', 'Pakaian Adat Wanita', 'Tas Wanita',\n",
        "                          'Tas Anak'],\n",
        "    'Kendaraan & Aksesori': ['Helm Motor', 'Spare Part Mobil', 'Interior Mobil'],\n",
        "    'Makanan & Minuman': ['Mie & Pasta', 'Sayur', 'Makanan Jadi', 'Penyimpanan Makanan', 'Bekal'],\n",
        "    'Perhiasan & Aksesori': ['Perhiasan Wanita', 'Aksesoris Rambut', 'Model Kit'],\n",
        "    'Mainan & Anak-Anak': ['Mainan Anak - Anak', 'Perlengkapan Mandi Bayi', 'Tas Anak'],\n",
        "}\n",
        "\n",
        "def kelompokan_kategori_fn(kategori_item):\n",
        "    for kelompok, items in kelompok_kategori.items():\n",
        "        if kategori_item in items:\n",
        "            return kelompok\n",
        "    return 'Lainnya'\n",
        "\n",
        "df['kategori'] = df['kategori'].apply(kelompokan_kategori_fn)"
      ]
    },
    {
      "cell_type": "code",
      "execution_count": null,
      "id": "cb14478d-c4e7-4c78-add7-5952d2865f79",
      "metadata": {
        "id": "cb14478d-c4e7-4c78-add7-5952d2865f79"
      },
      "outputs": [],
      "source": [
        "#Pergantian nama os menjadi sub_kategori\n",
        "df = df.rename(columns={'os': 'sub_kategori'})"
      ]
    },
    {
      "cell_type": "code",
      "execution_count": null,
      "id": "db2da80e-09a2-4083-99a2-af95469d9d62",
      "metadata": {
        "id": "db2da80e-09a2-4083-99a2-af95469d9d62"
      },
      "outputs": [],
      "source": [
        "#Pembersihan data raw\n",
        "df['harga'] = df['harga'].replace({'Rp': '', '\\\\.': ''}, regex=True).astype(int)\n",
        "df['store'] = df['store'].replace('No data available', 'Official Store')\n",
        "df['avg_rating'] = df['avg_rating'].replace('No data available', np.nan)\n",
        "\n",
        "def extract_number(stok):\n",
        "    if isinstance(stok, str):\n",
        "        result = re.findall(r'\\d+', stok)\n",
        "        return int(result[0]) if result else None\n",
        "    return np.nan\n",
        "\n",
        "df['stock'] = df['stock'].apply(extract_number)\n",
        "df['stock'] = df['stock'].astype('Int64')\n",
        "\n",
        "def extract_rating(rating):\n",
        "    result = re.findall(r'\\d+\\.?\\d*', rating)\n",
        "    if result:\n",
        "        number = result[0].replace('.', '')\n",
        "        return int(number)\n",
        "    return np.nan\n",
        "\n",
        "df['total_rating'] = df['total_rating'].apply(extract_rating)\n",
        "\n",
        "def extract_terjual(terjual):\n",
        "    result = re.findall(r'\\d+', terjual)\n",
        "    if result:\n",
        "        number = int(result[0])\n",
        "        if 'rb' in terjual:\n",
        "            number *= 1000\n",
        "        return number\n",
        "    return np.nan\n",
        "\n",
        "df['terjual'] = df['terjual'].apply(extract_terjual)"
      ]
    },
    {
      "cell_type": "code",
      "execution_count": null,
      "id": "ca0d0483-cee1-41bf-a2e0-eac295069a5e",
      "metadata": {
        "id": "ca0d0483-cee1-41bf-a2e0-eac295069a5e"
      },
      "outputs": [],
      "source": [
        "#Melabeli kategori dan sub_kategori menggunakan numerikal\n",
        "label_encoder = LabelEncoder()\n",
        "df['kategori_encoding'] = label_encoder.fit_transform(df['kategori']) + 1\n",
        "df['sub_kategori_encoding'] = label_encoder.fit_transform(df['sub_kategori']) + 1"
      ]
    },
    {
      "cell_type": "code",
      "execution_count": null,
      "id": "f5ac2e84-6daa-4801-8718-43a6f6ed2b28",
      "metadata": {
        "id": "f5ac2e84-6daa-4801-8718-43a6f6ed2b28",
        "outputId": "735842bd-c855-4718-a8de-8081ef321169"
      },
      "outputs": [
        {
          "name": "stdout",
          "output_type": "stream",
          "text": [
            "nama_produk                0\n",
            "harga                      0\n",
            "desc                       0\n",
            "terjual                  538\n",
            "total_rating             551\n",
            "avg_rating               551\n",
            "stock                      5\n",
            "sub_kategori               0\n",
            "kategori                   0\n",
            "store                      0\n",
            "kategori_encoding          0\n",
            "sub_kategori_encoding      0\n",
            "dtype: int64\n"
          ]
        }
      ],
      "source": [
        "#Mengecek data NaN atau Null\n",
        "print(df.isnull().sum())"
      ]
    },
    {
      "cell_type": "code",
      "execution_count": null,
      "id": "2a6edbf7-ed10-4cc9-b42a-739f6905c046",
      "metadata": {
        "id": "2a6edbf7-ed10-4cc9-b42a-739f6905c046",
        "outputId": "622e0e16-c582-4400-fdea-76ccd27c04e7"
      },
      "outputs": [
        {
          "data": {
            "text/html": [
              "<div>\n",
              "<style scoped>\n",
              "    .dataframe tbody tr th:only-of-type {\n",
              "        vertical-align: middle;\n",
              "    }\n",
              "\n",
              "    .dataframe tbody tr th {\n",
              "        vertical-align: top;\n",
              "    }\n",
              "\n",
              "    .dataframe thead th {\n",
              "        text-align: right;\n",
              "    }\n",
              "</style>\n",
              "<table border=\"1\" class=\"dataframe\">\n",
              "  <thead>\n",
              "    <tr style=\"text-align: right;\">\n",
              "      <th></th>\n",
              "      <th>harga</th>\n",
              "      <th>terjual</th>\n",
              "      <th>total_rating</th>\n",
              "      <th>stock</th>\n",
              "      <th>kategori_encoding</th>\n",
              "      <th>sub_kategori_encoding</th>\n",
              "    </tr>\n",
              "  </thead>\n",
              "  <tbody>\n",
              "    <tr>\n",
              "      <th>count</th>\n",
              "      <td>1.172000e+03</td>\n",
              "      <td>634.000000</td>\n",
              "      <td>621.000000</td>\n",
              "      <td>1167.0</td>\n",
              "      <td>1172.000000</td>\n",
              "      <td>1172.000000</td>\n",
              "    </tr>\n",
              "    <tr>\n",
              "      <th>mean</th>\n",
              "      <td>1.704042e+06</td>\n",
              "      <td>840.011041</td>\n",
              "      <td>279.872786</td>\n",
              "      <td>999.87575</td>\n",
              "      <td>4.399317</td>\n",
              "      <td>71.213311</td>\n",
              "    </tr>\n",
              "    <tr>\n",
              "      <th>std</th>\n",
              "      <td>4.378985e+06</td>\n",
              "      <td>4711.732445</td>\n",
              "      <td>812.530765</td>\n",
              "      <td>8095.918749</td>\n",
              "      <td>3.540074</td>\n",
              "      <td>46.954333</td>\n",
              "    </tr>\n",
              "    <tr>\n",
              "      <th>min</th>\n",
              "      <td>1.000000e+02</td>\n",
              "      <td>1.000000</td>\n",
              "      <td>1.000000</td>\n",
              "      <td>1.0</td>\n",
              "      <td>1.000000</td>\n",
              "      <td>1.000000</td>\n",
              "    </tr>\n",
              "    <tr>\n",
              "      <th>25%</th>\n",
              "      <td>8.500000e+04</td>\n",
              "      <td>24.250000</td>\n",
              "      <td>11.000000</td>\n",
              "      <td>6.0</td>\n",
              "      <td>1.000000</td>\n",
              "      <td>24.000000</td>\n",
              "    </tr>\n",
              "    <tr>\n",
              "      <th>50%</th>\n",
              "      <td>2.399500e+05</td>\n",
              "      <td>100.000000</td>\n",
              "      <td>45.000000</td>\n",
              "      <td>23.0</td>\n",
              "      <td>4.000000</td>\n",
              "      <td>76.500000</td>\n",
              "    </tr>\n",
              "    <tr>\n",
              "      <th>75%</th>\n",
              "      <td>1.499900e+06</td>\n",
              "      <td>500.000000</td>\n",
              "      <td>169.000000</td>\n",
              "      <td>100.0</td>\n",
              "      <td>8.000000</td>\n",
              "      <td>113.000000</td>\n",
              "    </tr>\n",
              "    <tr>\n",
              "      <th>max</th>\n",
              "      <td>1.000000e+08</td>\n",
              "      <td>100000.000000</td>\n",
              "      <td>7194.000000</td>\n",
              "      <td>100000.0</td>\n",
              "      <td>11.000000</td>\n",
              "      <td>159.000000</td>\n",
              "    </tr>\n",
              "  </tbody>\n",
              "</table>\n",
              "</div>"
            ],
            "text/plain": [
              "              harga        terjual  total_rating        stock  \\\n",
              "count  1.172000e+03     634.000000    621.000000       1167.0   \n",
              "mean   1.704042e+06     840.011041    279.872786    999.87575   \n",
              "std    4.378985e+06    4711.732445    812.530765  8095.918749   \n",
              "min    1.000000e+02       1.000000      1.000000          1.0   \n",
              "25%    8.500000e+04      24.250000     11.000000          6.0   \n",
              "50%    2.399500e+05     100.000000     45.000000         23.0   \n",
              "75%    1.499900e+06     500.000000    169.000000        100.0   \n",
              "max    1.000000e+08  100000.000000   7194.000000     100000.0   \n",
              "\n",
              "       kategori_encoding  sub_kategori_encoding  \n",
              "count        1172.000000            1172.000000  \n",
              "mean            4.399317              71.213311  \n",
              "std             3.540074              46.954333  \n",
              "min             1.000000               1.000000  \n",
              "25%             1.000000              24.000000  \n",
              "50%             4.000000              76.500000  \n",
              "75%             8.000000             113.000000  \n",
              "max            11.000000             159.000000  "
            ]
          },
          "execution_count": 12,
          "metadata": {},
          "output_type": "execute_result"
        }
      ],
      "source": [
        "#Mengecek data deskriptif dari dataset\n",
        "df.describe()"
      ]
    },
    {
      "cell_type": "code",
      "execution_count": null,
      "id": "63e7db7a-35c1-4062-ba22-f42ca6f4b2a9",
      "metadata": {
        "id": "63e7db7a-35c1-4062-ba22-f42ca6f4b2a9"
      },
      "outputs": [],
      "source": [
        "#Pengecakan detail isi data dari atribut harga\n",
        "#pd.set_option('display.max_rows', None)\n",
        "#print(df['harga'].value_counts().sort_index(ascending=False))"
      ]
    },
    {
      "cell_type": "code",
      "execution_count": null,
      "id": "1a0511ac-ddbb-4da5-a110-a228d6a178b8",
      "metadata": {
        "id": "1a0511ac-ddbb-4da5-a110-a228d6a178b8"
      },
      "outputs": [],
      "source": [
        "#Pengecakan detail isi data dari atribut terjual\n",
        "#df['terjual'].value_counts().sort_index(ascending=False)"
      ]
    },
    {
      "cell_type": "code",
      "execution_count": null,
      "id": "ad560146-d3e3-420f-888a-65b99eb9feca",
      "metadata": {
        "id": "ad560146-d3e3-420f-888a-65b99eb9feca"
      },
      "outputs": [],
      "source": [
        "#Pengecakan detail isi data dari atribut total_rating\n",
        "#print(df['total_rating'].value_counts().sort_index(ascending=False))"
      ]
    },
    {
      "cell_type": "code",
      "execution_count": null,
      "id": "267866a1-8dfc-402c-809f-6c951a7a5869",
      "metadata": {
        "id": "267866a1-8dfc-402c-809f-6c951a7a5869"
      },
      "outputs": [],
      "source": [
        "#Pengecakan detail isi data dari atribut avg_rating\n",
        "#df['avg_rating'].value_counts().sort_index(ascending=False)"
      ]
    },
    {
      "cell_type": "code",
      "execution_count": null,
      "id": "ba50cbc8-8a53-4191-ab8e-c32e5acc8f9d",
      "metadata": {
        "id": "ba50cbc8-8a53-4191-ab8e-c32e5acc8f9d"
      },
      "outputs": [],
      "source": [
        "#Pengecakan detail isi data dari atribut stock\n",
        "#pd.set_option('display.max_rows', None)\n",
        "#print(df['stock'].value_counts().sort_index(ascending=False))"
      ]
    },
    {
      "cell_type": "code",
      "execution_count": null,
      "id": "f3cc9566-bd35-48cd-b286-c6ab9557ad0b",
      "metadata": {
        "id": "f3cc9566-bd35-48cd-b286-c6ab9557ad0b"
      },
      "outputs": [],
      "source": [
        "#Pengisian data Nan\n",
        "def fillDataNaN(row):\n",
        "    if pd.isna(row):\n",
        "        if np.random.rand() < 0.7:\n",
        "            available_values = np.arange(1, 999)\n",
        "        else:\n",
        "            available_values = np.arange(1000, 10000)\n",
        "        return np.random.choice(available_values)\n",
        "    return row\n",
        "\n",
        "df['terjual'] = df['terjual'].apply(fillDataNaN)"
      ]
    },
    {
      "cell_type": "code",
      "execution_count": null,
      "id": "6c3208f3-9b66-4554-8f85-60b79cca5a17",
      "metadata": {
        "id": "6c3208f3-9b66-4554-8f85-60b79cca5a17"
      },
      "outputs": [],
      "source": [
        "#Pengisian data Nan\n",
        "def fillDataNaN(row):\n",
        "    if pd.isna(row):\n",
        "        available_values = np.arange(2.5, 3.9, 0.5)\n",
        "        return np.random.choice(available_values)\n",
        "    return row\n",
        "\n",
        "df['avg_rating'] = pd.to_numeric(df['avg_rating'], errors='coerce')\n",
        "df['avg_rating'] = df['avg_rating'].apply(fillDataNaN)"
      ]
    },
    {
      "cell_type": "code",
      "execution_count": null,
      "id": "26e74f29-8b6a-468e-adb5-0ef67c49d494",
      "metadata": {
        "id": "26e74f29-8b6a-468e-adb5-0ef67c49d494"
      },
      "outputs": [],
      "source": [
        "#Pengisian data Nan\n",
        "def fillDataNaN(row):\n",
        "    if pd.isna(row):\n",
        "        if np.random.rand() < 0.2:\n",
        "            available_values = np.arange(1000, 7194)\n",
        "        else:\n",
        "            available_values = np.arange(1, 999)\n",
        "        return np.random.choice(available_values)\n",
        "    return row\n",
        "\n",
        "df['total_rating'] = df['total_rating'].apply(fillDataNaN)"
      ]
    },
    {
      "cell_type": "code",
      "execution_count": null,
      "id": "61afd947-ddcf-4c55-9e39-0d2ce7ca7849",
      "metadata": {
        "id": "61afd947-ddcf-4c55-9e39-0d2ce7ca7849"
      },
      "outputs": [],
      "source": [
        "#Pengisian data Nan\n",
        "def fillDataNaN(row):\n",
        "    if pd.isna(row):\n",
        "        available_values = np.arange(1000, 5000)\n",
        "        return np.random.choice(available_values)\n",
        "    return row\n",
        "\n",
        "df['stock'] = df['stock'].apply(fillDataNaN)"
      ]
    },
    {
      "cell_type": "code",
      "execution_count": null,
      "id": "52f5d49e-8f8e-457e-8d5f-14230ff4d1dd",
      "metadata": {
        "id": "52f5d49e-8f8e-457e-8d5f-14230ff4d1dd",
        "outputId": "ae0b3e0f-fc29-4586-cdd1-8b14e00295a6"
      },
      "outputs": [
        {
          "data": {
            "image/png": "[encoded data removed]",
            "text/plain": [
              "<Figure size 1200x800 with 1 Axes>"
            ]
          },
          "metadata": {},
          "output_type": "display_data"
        }
      ],
      "source": [
        "#Pengecekan Outlier\n",
        "numerical_columns = ['harga', 'terjual', 'total_rating', 'avg_rating', 'stock']\n",
        "plt.figure(figsize=(12, 8))\n",
        "\n",
        "sns.boxplot(data=df[numerical_columns])\n",
        "plt.title('Box Plot untuk Kolom Harga, Terjual, dan Rasio Stok Terjual')\n",
        "plt.xticks(rotation=45)\n",
        "plt.show()"
      ]
    },
    {
      "cell_type": "code",
      "execution_count": null,
      "id": "46920379-7a66-4184-b2cc-2beeec32af65",
      "metadata": {
        "id": "46920379-7a66-4184-b2cc-2beeec32af65",
        "outputId": "459757af-899d-44a5-a14d-4f420a76152d"
      },
      "outputs": [
        {
          "data": {
            "image/png": "[encoded data removed]",
            "text/plain": [
              "<Figure size 640x480 with 1 Axes>"
            ]
          },
          "metadata": {},
          "output_type": "display_data"
        }
      ],
      "source": [
        "#Pengecekan Outlier\n",
        "plt.scatter(df['stock'], df['terjual'])\n",
        "plt.xlabel('stockstock')\n",
        "plt.ylabel('Terjual')\n",
        "plt.title('stock vs Terjual')\n",
        "plt.show()"
      ]
    },
    {
      "cell_type": "code",
      "execution_count": null,
      "id": "231524d5-52d7-44b8-af0a-b86cf446672f",
      "metadata": {
        "id": "231524d5-52d7-44b8-af0a-b86cf446672f",
        "outputId": "f7ef4be0-574d-4a3a-94f3-7034cecfe46d"
      },
      "outputs": [
        {
          "data": {
            "text/html": [
              "<div>\n",
              "<style scoped>\n",
              "    .dataframe tbody tr th:only-of-type {\n",
              "        vertical-align: middle;\n",
              "    }\n",
              "\n",
              "    .dataframe tbody tr th {\n",
              "        vertical-align: top;\n",
              "    }\n",
              "\n",
              "    .dataframe thead th {\n",
              "        text-align: right;\n",
              "    }\n",
              "</style>\n",
              "<table border=\"1\" class=\"dataframe\">\n",
              "  <thead>\n",
              "    <tr style=\"text-align: right;\">\n",
              "      <th></th>\n",
              "      <th>harga</th>\n",
              "      <th>terjual</th>\n",
              "      <th>total_rating</th>\n",
              "      <th>avg_rating</th>\n",
              "      <th>stock</th>\n",
              "      <th>kategori_encoding</th>\n",
              "      <th>sub_kategori_encoding</th>\n",
              "    </tr>\n",
              "  </thead>\n",
              "  <tbody>\n",
              "    <tr>\n",
              "      <th>count</th>\n",
              "      <td>8.900000e+02</td>\n",
              "      <td>890.000000</td>\n",
              "      <td>890.000000</td>\n",
              "      <td>890.000000</td>\n",
              "      <td>890.000000</td>\n",
              "      <td>890.000000</td>\n",
              "      <td>890.000000</td>\n",
              "    </tr>\n",
              "    <tr>\n",
              "      <th>mean</th>\n",
              "      <td>1.815704e+06</td>\n",
              "      <td>511.329213</td>\n",
              "      <td>307.629213</td>\n",
              "      <td>4.151011</td>\n",
              "      <td>62.988764</td>\n",
              "      <td>4.095506</td>\n",
              "      <td>70.859551</td>\n",
              "    </tr>\n",
              "    <tr>\n",
              "      <th>std</th>\n",
              "      <td>4.672546e+06</td>\n",
              "      <td>825.905853</td>\n",
              "      <td>372.979373</td>\n",
              "      <td>0.996667</td>\n",
              "      <td>111.103453</td>\n",
              "      <td>3.461321</td>\n",
              "      <td>47.307736</td>\n",
              "    </tr>\n",
              "    <tr>\n",
              "      <th>min</th>\n",
              "      <td>1.100000e+03</td>\n",
              "      <td>1.000000</td>\n",
              "      <td>1.000000</td>\n",
              "      <td>1.000000</td>\n",
              "      <td>1.000000</td>\n",
              "      <td>1.000000</td>\n",
              "      <td>1.000000</td>\n",
              "    </tr>\n",
              "    <tr>\n",
              "      <th>25%</th>\n",
              "      <td>9.550325e+04</td>\n",
              "      <td>50.000000</td>\n",
              "      <td>24.000000</td>\n",
              "      <td>3.000000</td>\n",
              "      <td>5.000000</td>\n",
              "      <td>1.000000</td>\n",
              "      <td>24.000000</td>\n",
              "    </tr>\n",
              "    <tr>\n",
              "      <th>50%</th>\n",
              "      <td>3.000000e+05</td>\n",
              "      <td>179.000000</td>\n",
              "      <td>133.500000</td>\n",
              "      <td>4.900000</td>\n",
              "      <td>18.000000</td>\n",
              "      <td>4.000000</td>\n",
              "      <td>76.500000</td>\n",
              "    </tr>\n",
              "    <tr>\n",
              "      <th>75%</th>\n",
              "      <td>1.750000e+06</td>\n",
              "      <td>681.000000</td>\n",
              "      <td>520.750000</td>\n",
              "      <td>5.000000</td>\n",
              "      <td>79.000000</td>\n",
              "      <td>8.000000</td>\n",
              "      <td>113.000000</td>\n",
              "    </tr>\n",
              "    <tr>\n",
              "      <th>max</th>\n",
              "      <td>1.000000e+08</td>\n",
              "      <td>4950.000000</td>\n",
              "      <td>2121.000000</td>\n",
              "      <td>5.000000</td>\n",
              "      <td>658.000000</td>\n",
              "      <td>11.000000</td>\n",
              "      <td>159.000000</td>\n",
              "    </tr>\n",
              "  </tbody>\n",
              "</table>\n",
              "</div>"
            ],
            "text/plain": [
              "              harga      terjual  total_rating  avg_rating       stock  \\\n",
              "count  8.900000e+02   890.000000    890.000000  890.000000  890.000000   \n",
              "mean   1.815704e+06   511.329213    307.629213    4.151011   62.988764   \n",
              "std    4.672546e+06   825.905853    372.979373    0.996667  111.103453   \n",
              "min    1.100000e+03     1.000000      1.000000    1.000000    1.000000   \n",
              "25%    9.550325e+04    50.000000     24.000000    3.000000    5.000000   \n",
              "50%    3.000000e+05   179.000000    133.500000    4.900000   18.000000   \n",
              "75%    1.750000e+06   681.000000    520.750000    5.000000   79.000000   \n",
              "max    1.000000e+08  4950.000000   2121.000000    5.000000  658.000000   \n",
              "\n",
              "       kategori_encoding  sub_kategori_encoding  \n",
              "count         890.000000             890.000000  \n",
              "mean            4.095506              70.859551  \n",
              "std             3.461321              47.307736  \n",
              "min             1.000000               1.000000  \n",
              "25%             1.000000              24.000000  \n",
              "50%             4.000000              76.500000  \n",
              "75%             8.000000             113.000000  \n",
              "max            11.000000             159.000000  "
            ]
          },
          "execution_count": 24,
          "metadata": {},
          "output_type": "execute_result"
        }
      ],
      "source": [
        "#Menghapusan Outlier\n",
        "columns_to_check = ['terjual', 'total_rating', 'stock']\n",
        "\n",
        "for column in columns_to_check:\n",
        "    Q1 = df[column].quantile(0.15)\n",
        "    Q3 = df[column].quantile(0.85)\n",
        "    IQR = Q3 - Q1\n",
        "\n",
        "    lower_bound = Q1 - 1.5 * IQR\n",
        "    upper_bound = Q3 + 1.5 * IQR\n",
        "\n",
        "    df = df[(df[column] >= lower_bound) & (df[column] <= upper_bound)]\n",
        "\n",
        "df.describe()"
      ]
    },
    {
      "cell_type": "code",
      "execution_count": null,
      "id": "ba545a00-b541-4f90-bfc5-f3c181c5a0c6",
      "metadata": {
        "id": "ba545a00-b541-4f90-bfc5-f3c181c5a0c6"
      },
      "outputs": [],
      "source": [
        "#Penyimpanan cleaned dataset\n",
        "#df.to_csv(r'final-project/data-final-project-cleaned1.csv', index=False)\n",
        "df = pd.read_csv(r'final-project/data-final-project-cleaned.csv')"
      ]
    },
    {
      "cell_type": "code",
      "execution_count": null,
      "id": "91ff1e8c-3300-482a-948d-e13c17a21d5e",
      "metadata": {
        "id": "91ff1e8c-3300-482a-948d-e13c17a21d5e"
      },
      "outputs": [],
      "source": [
        "#Penambahan Atribut\n",
        "df['harga_per_rating'] = df['harga'] / (df['total_rating'] + 1)\n",
        "df['harga_terjual'] = df['harga'] * df['terjual']\n",
        "df['skor_popularitas'] = (df['avg_rating'] * 0.4) + (df['terjual'] * 0.4) + (df['total_rating'] * 0.2)\n",
        "df['avg_harga_per_kategori'] = df.groupby('kategori')['harga'].transform('mean')\n",
        "df['stok_terjual_ratio'] = df['stock'] / (df['terjual'] + 1)\n",
        "df['stok_ideal'] = df['stok_terjual_ratio'] * df['stock']\n",
        "df['rasio_penjualan_stok'] = df['terjual'] / (df['stock'] + 1)\n",
        "df['stok_ideal'] = np.ceil(df['stok_ideal'])\n",
        "df['skor_popularitas'] = df['skor_popularitas'].round()"
      ]
    },
    {
      "cell_type": "code",
      "execution_count": null,
      "id": "a226e83d-f341-47b9-864f-ef1df5e8afb1",
      "metadata": {
        "id": "a226e83d-f341-47b9-864f-ef1df5e8afb1"
      },
      "outputs": [],
      "source": [
        "#Encoding Kategori\n",
        "#encoder = OneHotEncoder(drop='first')\n",
        "#encoded_categorical = encoder.fit_transform(df[['kategori_encoding']])\n",
        "#encoded_df = pd.DataFrame(encoded_categorical.toarray(), columns=encoder.get_feature_names_out(['kategori_encoding']))\n",
        "#df = pd.concat([df, encoded_df], axis=1)"
      ]
    },
    {
      "cell_type": "code",
      "execution_count": null,
      "id": "2a5f5e31-8638-45ca-9d39-e8967b3d4c89",
      "metadata": {
        "id": "2a5f5e31-8638-45ca-9d39-e8967b3d4c89"
      },
      "outputs": [],
      "source": [
        "#Dynamic Pricing Model"
      ]
    },
    {
      "cell_type": "code",
      "execution_count": null,
      "id": "01b05198-2ceb-45b5-bdd6-f25d9b5bfd42",
      "metadata": {
        "id": "01b05198-2ceb-45b5-bdd6-f25d9b5bfd42",
        "outputId": "a7ca2832-b55d-4735-9aea-c5c5a904a504"
      },
      "outputs": [
        {
          "data": {
            "text/plain": [
              "harga_kategori\n",
              "Rendah    350\n",
              "Tinggi    316\n",
              "Sedang    214\n",
              "Name: count, dtype: int64"
            ]
          },
          "execution_count": 121,
          "metadata": {},
          "output_type": "execute_result"
        }
      ],
      "source": [
        "#Penambahan Atribut Class\n",
        "def harga_kategori(row):\n",
        "    if row[\"harga\"] > 800000:\n",
        "        return \"Tinggi\"\n",
        "    elif 200000 <= row[\"harga\"] <= 800000:\n",
        "        return \"Sedang\"\n",
        "    else:\n",
        "        return \"Rendah\"\n",
        "\n",
        "df[\"harga_kategori\"] = df.apply(harga_kategori, axis=1)\n",
        "df['harga_kategori_encoding'] = df['harga_kategori'].map({'Tinggi': 2, 'Sedang': 1, 'Rendah': 0})\n",
        "df[\"harga_kategori\"].value_counts()"
      ]
    },
    {
      "cell_type": "code",
      "execution_count": null,
      "id": "8af69d7d-69b7-4c0a-8bbf-4a65e7ff013c",
      "metadata": {
        "id": "8af69d7d-69b7-4c0a-8bbf-4a65e7ff013c",
        "outputId": "d9332a18-6ccd-4949-d8e5-26813ef59cb7"
      },
      "outputs": [
        {
          "name": "stdout",
          "output_type": "stream",
          "text": [
            "Training Data Evaluation:\n",
            "Accuracy: 0.560064935064935\n",
            "Precision: 0.6064954224870723\n",
            "Recall: 0.560064935064935\n",
            "F1 Score: 0.4970451272397152\n",
            "\n",
            "Testing Data Evaluation:\n",
            "Accuracy: 0.5833333333333334\n",
            "Precision: 0.5780060708905145\n",
            "Recall: 0.5833333333333334\n",
            "F1 Score: 0.530597581147082\n",
            "\n"
          ]
        }
      ],
      "source": [
        "import xgboost as xgb\n",
        "\n",
        "dfDPM = df.drop(columns=['nama_produk', 'desc', 'store', 'kategori', 'sub_kategori', 'harga_kategori'], errors='ignore')\n",
        "\n",
        "X = dfDPM[['avg_harga_per_kategori', 'harga_per_rating', 'harga_terjual']]\n",
        "#X = dfDPM.drop(columns=['harga_kategori_encoding'])\n",
        "y = dfDPM['harga_kategori_encoding']\n",
        "\n",
        "X_train, X_test, y_train, y_test = train_test_split(X, y, test_size=0.3, random_state=42)\n",
        "\n",
        "rf_model = RandomForestClassifier(n_estimators=300, max_depth=5, random_state=42, n_jobs=-1)\n",
        "rf_model.fit(X_train, y_train)\n",
        "\n",
        "xgb_model = xgb.XGBClassifier(random_state=42)\n",
        "xgb_model.fit(X_train, y_train)\n",
        "\n",
        "svm_model = SVC(random_state=42)\n",
        "svm_model.fit(X_train, y_train)\n",
        "\n",
        "def evaluate_classification_model(model, X, y):\n",
        "    y_pred = model.predict(X)\n",
        "    return accuracy_score(y, y_pred), precision_score(y, y_pred, average='weighted'), recall_score(y, y_pred, average='weighted'), f1_score(y, y_pred, average='weighted')\n",
        "\n",
        "train_metrics = evaluate_classification_model(svm_model, X_train, y_train)\n",
        "test_metrics = evaluate_classification_model(svm_model, X_test, y_test)\n",
        "\n",
        "print(f\"Training Data Evaluation:\\nAccuracy: {train_metrics[0]}\\nPrecision: {train_metrics[1]}\\nRecall: {train_metrics[2]}\\nF1 Score: {train_metrics[3]}\\n\")\n",
        "print(f\"Testing Data Evaluation:\\nAccuracy: {test_metrics[0]}\\nPrecision: {test_metrics[1]}\\nRecall: {test_metrics[2]}\\nF1 Score: {test_metrics[3]}\\n\")"
      ]
    },
    {
      "cell_type": "code",
      "execution_count": null,
      "id": "b6f77d62-2781-44ed-bce9-d6de1fca2c30",
      "metadata": {
        "id": "b6f77d62-2781-44ed-bce9-d6de1fca2c30",
        "outputId": "eb9d5771-6148-49be-a158-31a826d101c8"
      },
      "outputs": [
        {
          "name": "stdout",
          "output_type": "stream",
          "text": [
            "Cross-validation scores: [0.82258065 0.82113821 0.82113821 0.85365854 0.85365854]\n",
            "Mean CV score: 0.8344348282192499\n"
          ]
        }
      ],
      "source": [
        "cv_scores = cross_val_score(rf_model, X_train, y_train, cv=5)\n",
        "print(f'Cross-validation scores: {cv_scores}')\n",
        "print(f'Mean CV score: {np.mean(cv_scores)}')"
      ]
    },
    {
      "cell_type": "code",
      "execution_count": null,
      "id": "31e4e14b-e5c5-408f-89a4-618c8493ea5b",
      "metadata": {
        "id": "31e4e14b-e5c5-408f-89a4-618c8493ea5b"
      },
      "outputs": [],
      "source": [
        "#Product Restock Prediction Model"
      ]
    },
    {
      "cell_type": "code",
      "execution_count": null,
      "id": "da5fe4ea-3df1-4677-9eed-14793941b40d",
      "metadata": {
        "id": "da5fe4ea-3df1-4677-9eed-14793941b40d",
        "outputId": "b383a57c-405c-4e6e-c3eb-a80a4152d13a"
      },
      "outputs": [
        {
          "data": {
            "text/plain": [
              "restock\n",
              "Restock          624\n",
              "Stok Berlebih    145\n",
              "Tidak Restock    111\n",
              "Name: count, dtype: int64"
            ]
          },
          "execution_count": 33,
          "metadata": {},
          "output_type": "execute_result"
        }
      ],
      "source": [
        "df['restock'] = df.apply(\n",
        "    lambda x: 'Restock' if x['stok_ideal'] / x['stock'] < 1\n",
        "    else ('Tidak Restock' if x['stok_ideal'] / x['stock'] == 1\n",
        "    else 'Stok Berlebih'), axis=1)\n",
        "\n",
        "df['restock_encoding'] = df['restock'].map({'Restock': 3,'Stok Berlebih' : 2, 'Tidak Restock': 1})\n",
        "df['restock'].value_counts()"
      ]
    },
    {
      "cell_type": "code",
      "execution_count": null,
      "id": "802c45cd-ea06-4052-ad7f-91c049ce4e61",
      "metadata": {
        "id": "802c45cd-ea06-4052-ad7f-91c049ce4e61",
        "outputId": "8e42b4d4-75ba-4b83-eef5-9e3d266d80cb"
      },
      "outputs": [
        {
          "name": "stdout",
          "output_type": "stream",
          "text": [
            "Training Data Evaluation:\n",
            "Accuracy: 0.9983766233766234\n",
            "Precision: 0.9983803212732598\n",
            "Recall: 0.9983766233766234\n",
            "F1 Score: 0.9983723789156685\n",
            "\n",
            "Testing Data Evaluation:\n",
            "Accuracy: 0.9886363636363636\n",
            "Precision: 0.9887975499677628\n",
            "Recall: 0.9886363636363636\n",
            "F1 Score: 0.9883975509313092\n",
            "\n"
          ]
        }
      ],
      "source": [
        "from sklearn.ensemble import RandomForestClassifier\n",
        "\n",
        "dfDPM = df.drop(columns=['nama_produk', 'desc', 'store', 'kategori', 'sub_kategori', 'harga_kategori', 'restock'], errors='ignore')\n",
        "\n",
        "X = dfDPM[['terjual', 'stock', 'rasio_penjualan_stok']]\n",
        "#X = dfDPM.drop(columns=['restock'])\n",
        "y = dfDPM['restock_encoding']\n",
        "\n",
        "X_train, X_test, y_train, y_test = train_test_split(X, y, test_size=0.3, random_state=42)\n",
        "\n",
        "smote = SMOTE(sampling_strategy='auto', random_state=42)\n",
        "X_train_resampleds, y_train_resampleds = smote.fit_resample(X_train, y_train)\n",
        "\n",
        "undersampler = RandomUnderSampler(sampling_strategy='auto', random_state=42)\n",
        "X_train_resampled, y_train_resampled = undersampler.fit_resample(X_train_resampleds, y_train_resampleds)\n",
        "\n",
        "rf_modelStock = RandomForestClassifier(n_estimators=300, max_depth=5, random_state=42, n_jobs=-1)\n",
        "rf_modelStock.fit(X_train_resampled, y_train_resampled)\n",
        "\n",
        "def evaluate_classification_model(model, X, y):\n",
        "    y_pred = model.predict(X)\n",
        "    return accuracy_score(y, y_pred), precision_score(y, y_pred, average='weighted'), recall_score(y, y_pred, average='weighted'), f1_score(y, y_pred, average='weighted')\n",
        "\n",
        "train_metrics = evaluate_classification_model(rf_modelStock, X_train, y_train)\n",
        "test_metrics = evaluate_classification_model(rf_modelStock, X_test, y_test)\n",
        "\n",
        "print(f\"Training Data Evaluation:\\nAccuracy: {train_metrics[0]}\\nPrecision: {train_metrics[1]}\\nRecall: {train_metrics[2]}\\nF1 Score: {train_metrics[3]}\\n\")\n",
        "print(f\"Testing Data Evaluation:\\nAccuracy: {test_metrics[0]}\\nPrecision: {test_metrics[1]}\\nRecall: {test_metrics[2]}\\nF1 Score: {test_metrics[3]}\\n\")"
      ]
    },
    {
      "cell_type": "code",
      "execution_count": null,
      "id": "6ade6627-8d5d-4b87-9ba8-8e00f4f9c8c3",
      "metadata": {
        "id": "6ade6627-8d5d-4b87-9ba8-8e00f4f9c8c3",
        "outputId": "7120fc0a-0235-499b-876d-330fc108c41d"
      },
      "outputs": [
        {
          "name": "stdout",
          "output_type": "stream",
          "text": [
            "Cross-validation scores: [0.99239544 0.98098859 0.99239544 0.98479087 0.98854962]\n",
            "Mean CV score: 0.9878239921051868\n"
          ]
        }
      ],
      "source": [
        "cv_scores = cross_val_score(rf_modelStock, X_train_resampled, y_train_resampled, cv=5)\n",
        "print(f'Cross-validation scores: {cv_scores}')\n",
        "print(f'Mean CV score: {np.mean(cv_scores)}')"
      ]
    },
    {
      "cell_type": "code",
      "execution_count": null,
      "id": "fc897c15-a191-415f-8be9-9be670aa5249",
      "metadata": {
        "id": "fc897c15-a191-415f-8be9-9be670aa5249"
      },
      "outputs": [],
      "source": [
        "#Product Popularity Prediction Model"
      ]
    },
    {
      "cell_type": "code",
      "execution_count": null,
      "id": "f58f3743-6ace-43aa-8a77-4ae6777b595c",
      "metadata": {
        "id": "f58f3743-6ace-43aa-8a77-4ae6777b595c",
        "outputId": "aff715a8-3fc1-4608-c4c7-04bbc6181932"
      },
      "outputs": [
        {
          "data": {
            "text/plain": [
              "popularitas\n",
              "Sangat Populer    837\n",
              "Tidak Populer      23\n",
              "Populer            20\n",
              "Name: count, dtype: int64"
            ]
          },
          "execution_count": 37,
          "metadata": {},
          "output_type": "execute_result"
        }
      ],
      "source": [
        "df['popularitas'] = df['skor_popularitas'].apply(\n",
        "    lambda x: 'Sangat Populer' if x > 4 else ('Populer' if x > 3 else 'Tidak Populer')\n",
        ")\n",
        "df['popularitas_encoding'] = df['popularitas'].map({'Sangat Populer': 3, 'Populer': 2, 'Tidak Populer': 1})\n",
        "df['popularitas'].value_counts()"
      ]
    },
    {
      "cell_type": "code",
      "execution_count": null,
      "id": "2bbdc1c8-549d-4de2-b505-1f0e0bf5978e",
      "metadata": {
        "id": "2bbdc1c8-549d-4de2-b505-1f0e0bf5978e",
        "outputId": "52e2209b-a6a3-47a0-c246-e583c4d02297"
      },
      "outputs": [
        {
          "name": "stdout",
          "output_type": "stream",
          "text": [
            "Training Data Evaluation:\n",
            "Accuracy: 0.9967532467532467\n",
            "Precision: 0.9971590909090909\n",
            "Recall: 0.9967532467532467\n",
            "F1 Score: 0.9968587063135615\n",
            "\n",
            "Testing Data Evaluation:\n",
            "Accuracy: 0.9962121212121212\n",
            "Precision: 0.9967532467532468\n",
            "Recall: 0.9962121212121212\n",
            "F1 Score: 0.9963539981145614\n",
            "\n"
          ]
        }
      ],
      "source": [
        "dfDPM = df.drop(columns=['nama_produk', 'desc', 'store', 'kategori', 'sub_kategori', 'harga_kategori', 'restock', 'popularitas'], errors='ignore')\n",
        "\n",
        "X = dfDPM[['total_rating', 'terjual', 'harga_per_rating']]\n",
        "#X = dfDPM.drop(columns=['restock'])\n",
        "y = dfDPM['popularitas_encoding']\n",
        "\n",
        "X_train, X_test, y_train, y_test = train_test_split(X, y, test_size=0.3, random_state=42)\n",
        "\n",
        "smote = SMOTE(sampling_strategy='auto', random_state=42)\n",
        "X_train_resampleds, y_train_resampleds = smote.fit_resample(X_train, y_train)\n",
        "\n",
        "undersampler = RandomUnderSampler(sampling_strategy='auto', random_state=42)\n",
        "X_train_resampled, y_train_resampled = undersampler.fit_resample(X_train_resampleds, y_train_resampleds)\n",
        "\n",
        "rf_modelPopu = RandomForestClassifier(n_estimators=300, max_depth=5, random_state=42, n_jobs=-1)\n",
        "rf_modelPopu.fit(X_train_resampled, y_train_resampled)\n",
        "\n",
        "def evaluate_classification_model(model, X, y):\n",
        "    y_pred = model.predict(X)\n",
        "    return accuracy_score(y, y_pred), precision_score(y, y_pred, average='weighted'), recall_score(y, y_pred, average='weighted'), f1_score(y, y_pred, average='weighted')\n",
        "\n",
        "train_metrics = evaluate_classification_model(rf_modelPopu, X_train, y_train)\n",
        "test_metrics = evaluate_classification_model(rf_modelPopu, X_test, y_test)\n",
        "\n",
        "print(f\"Training Data Evaluation:\\nAccuracy: {train_metrics[0]}\\nPrecision: {train_metrics[1]}\\nRecall: {train_metrics[2]}\\nF1 Score: {train_metrics[3]}\\n\")\n",
        "print(f\"Testing Data Evaluation:\\nAccuracy: {test_metrics[0]}\\nPrecision: {test_metrics[1]}\\nRecall: {test_metrics[2]}\\nF1 Score: {test_metrics[3]}\\n\")"
      ]
    },
    {
      "cell_type": "code",
      "execution_count": null,
      "id": "aee243ab-bf6d-48fe-bc0e-7c36bec4c036",
      "metadata": {
        "id": "aee243ab-bf6d-48fe-bc0e-7c36bec4c036",
        "outputId": "59154b0b-114d-48a4-a745-4a5e053ef18b"
      },
      "outputs": [
        {
          "name": "stdout",
          "output_type": "stream",
          "text": [
            "Cross-validation scores: [0.99433428 1.         1.         1.         0.99147727]\n",
            "Mean CV score: 0.9971623100695339\n"
          ]
        }
      ],
      "source": [
        "cv_scores = cross_val_score(rf_modelPopu, X_train_resampleds, y_train_resampleds, cv=5)\n",
        "print(f'Cross-validation scores: {cv_scores}')\n",
        "print(f'Mean CV score: {np.mean(cv_scores)}')"
      ]
    },
    {
      "cell_type": "code",
      "execution_count": null,
      "id": "5f9a2eb5-d3d8-496d-945a-0e9d2917b007",
      "metadata": {
        "id": "5f9a2eb5-d3d8-496d-945a-0e9d2917b007",
        "outputId": "3f2e115b-f23f-49d3-e0f9-ba5f3ce0493a"
      },
      "outputs": [
        {
          "name": "stdout",
          "output_type": "stream",
          "text": [
            "popularitas_encoding       1.000000\n",
            "restock_encoding           0.275312\n",
            "total_rating               0.172224\n",
            "skor_popularitas           0.160989\n",
            "terjual                    0.141456\n",
            "kategori_encoding          0.124854\n",
            "rasio_penjualan_stok       0.077264\n",
            "harga_terjual              0.055581\n",
            "stock                      0.053922\n",
            "sub_kategori_encoding     -0.066250\n",
            "stok_ideal                -0.114895\n",
            "avg_harga_per_kategori    -0.139008\n",
            "avg_rating                -0.144800\n",
            "harga                     -0.152826\n",
            "harga_kategori_encoding   -0.170760\n",
            "stok_terjual_ratio        -0.253762\n",
            "harga_per_rating          -0.527401\n",
            "Name: popularitas_encoding, dtype: float64\n"
          ]
        }
      ],
      "source": [
        "correlation_matrix = dfDPM.corr()\n",
        "\n",
        "print(correlation_matrix['popularitas_encoding'].sort_values(ascending=False))"
      ]
    },
    {
      "cell_type": "code",
      "execution_count": null,
      "id": "095c1a38-ca4d-4848-b61e-ea6c52386fb4",
      "metadata": {
        "id": "095c1a38-ca4d-4848-b61e-ea6c52386fb4",
        "outputId": "cee09001-a318-4214-989d-710401736413"
      },
      "outputs": [
        {
          "data": {
            "text/html": [
              "<div>\n",
              "<style scoped>\n",
              "    .dataframe tbody tr th:only-of-type {\n",
              "        vertical-align: middle;\n",
              "    }\n",
              "\n",
              "    .dataframe tbody tr th {\n",
              "        vertical-align: top;\n",
              "    }\n",
              "\n",
              "    .dataframe thead th {\n",
              "        text-align: right;\n",
              "    }\n",
              "</style>\n",
              "<table border=\"1\" class=\"dataframe\">\n",
              "  <thead>\n",
              "    <tr style=\"text-align: right;\">\n",
              "      <th></th>\n",
              "      <th>nama_produk</th>\n",
              "      <th>harga_kategori</th>\n",
              "      <th>restock</th>\n",
              "      <th>popularitas</th>\n",
              "      <th>Rekomendasi</th>\n",
              "    </tr>\n",
              "  </thead>\n",
              "  <tbody>\n",
              "    <tr>\n",
              "      <th>0</th>\n",
              "      <td>Produk A</td>\n",
              "      <td>Rendah</td>\n",
              "      <td>Stok Berlebih</td>\n",
              "      <td>Tidak Populer</td>\n",
              "      <td>Tunda restock produk ini dan evaluasi penjuala...</td>\n",
              "    </tr>\n",
              "    <tr>\n",
              "      <th>1</th>\n",
              "      <td>Produk B</td>\n",
              "      <td>Rendah</td>\n",
              "      <td>Stok Berlebih</td>\n",
              "      <td>Sangat Populer</td>\n",
              "      <td>Pertahankan strategi saat ini.</td>\n",
              "    </tr>\n",
              "    <tr>\n",
              "      <th>2</th>\n",
              "      <td>Produk C</td>\n",
              "      <td>Rendah</td>\n",
              "      <td>Restock</td>\n",
              "      <td>Sangat Populer</td>\n",
              "      <td>Segera lakukan restock produk ini.</td>\n",
              "    </tr>\n",
              "    <tr>\n",
              "      <th>3</th>\n",
              "      <td>Produk D</td>\n",
              "      <td>Rendah</td>\n",
              "      <td>Stok Berlebih</td>\n",
              "      <td>Sangat Populer</td>\n",
              "      <td>Pertahankan strategi saat ini.</td>\n",
              "    </tr>\n",
              "  </tbody>\n",
              "</table>\n",
              "</div>"
            ],
            "text/plain": [
              "  nama_produk harga_kategori        restock     popularitas  \\\n",
              "0    Produk A         Rendah  Stok Berlebih   Tidak Populer   \n",
              "1    Produk B         Rendah  Stok Berlebih  Sangat Populer   \n",
              "2    Produk C         Rendah        Restock  Sangat Populer   \n",
              "3    Produk D         Rendah  Stok Berlebih  Sangat Populer   \n",
              "\n",
              "                                         Rekomendasi  \n",
              "0  Tunda restock produk ini dan evaluasi penjuala...  \n",
              "1                     Pertahankan strategi saat ini.  \n",
              "2                 Segera lakukan restock produk ini.  \n",
              "3                     Pertahankan strategi saat ini.  "
            ]
          },
          "execution_count": 93,
          "metadata": {},
          "output_type": "execute_result"
        }
      ],
      "source": [
        "data_utama = {\n",
        "    'nama_produk': ['Produk A', 'Produk B', 'Produk C', 'Produk D'],\n",
        "    'kategori': [1, 2, 1, 5],\n",
        "    'harga': [50000, 50000, 80000, 35000],\n",
        "    'total_rating': [1, 50, 300, 20],\n",
        "    'terjual': [1, 20, 150, 5],\n",
        "    'stock': [10, 30, 5, 500]\n",
        "}\n",
        "\n",
        "#Dibuat agar data_utama untuk input disesuaikan agar masuk logika\n",
        "\n",
        "df = pd.DataFrame(data_utama)\n",
        "\n",
        "df['avg_harga_per_kategori'] = df.groupby('kategori')['harga'].transform('mean')\n",
        "df['harga_per_rating'] = df['harga'] / (df['total_rating'] + 1)\n",
        "df['harga_terjual'] = df['harga'] * df['terjual']\n",
        "df['rasio_penjualan_stok'] = df['terjual'] / (df['stock'] + 1)\n",
        "\n",
        "#encoder = OneHotEncoder(drop='first', sparse_output=False)\n",
        "#encoded_categorical = encoder.fit_transform(df[['kategori']])\n",
        "#encoded_df = pd.DataFrame(encoded_categorical, columns=encoder.get_feature_names_out(['kategori']))\n",
        "#df = pd.concat([df, encoded_df], axis=1)\n",
        "\n",
        "df['harga_kategori_encoding'] = np.random.randint(1, 4, size=len(df))\n",
        "df['restock_encoding'] = np.random.randint(1, 4, size=len(df))\n",
        "df['popularitas_encoding'] = np.random.randint(1, 4, size=len(df))\n",
        "\n",
        "df['harga_kategori_encoding'] = rf_model.predict(\n",
        "    df[['avg_harga_per_kategori', 'harga_per_rating', 'harga_terjual']]\n",
        ")\n",
        "\n",
        "df['restock_encoding'] = rf_modelStock.predict(\n",
        "    df[['terjual', 'stock', 'rasio_penjualan_stok']]\n",
        ")\n",
        "\n",
        "df['popularitas_encoding'] = rf_modelPopu.predict(\n",
        "    df[['total_rating', 'terjual', 'harga_per_rating']]\n",
        ")\n",
        "\n",
        "harga_kategori_mapping = {1: 'Rendah', 2: 'Sedang', 3: 'Tinggi'}\n",
        "restock_mapping = {1: 'Tidak Restock', 3: 'Restock', 2: 'Stok Berlebih'}\n",
        "popularitas_mapping = {1: 'Tidak Populer', 2: 'Populer', 3: 'Sangat Populer'}\n",
        "\n",
        "df['harga_kategori'] = df['harga_kategori_encoding'].map(harga_kategori_mapping)\n",
        "df['restock'] = df['restock_encoding'].map(restock_mapping)\n",
        "df['popularitas'] = df['popularitas_encoding'].map(popularitas_mapping)\n",
        "\n",
        "def rekomendasi(row):\n",
        "    if row['restock'] == 'Restock':\n",
        "        return \"Segera lakukan restock produk ini.\"\n",
        "    elif row['harga_kategori'] == 'Tinggi' and row['popularitas'] == 'Sangat Populer':\n",
        "        return \"Lakukan promosi pada produk populer ini.\"\n",
        "    elif row['restock'] == 'Tidak Restock' and row['harga_kategori'] == 'Rendah':\n",
        "        return \"Evaluasi produk untuk diskon atau hapus dari katalog.\"\n",
        "    elif row['popularitas'] == 'Tidak Populer' and row['restock'] == 'Stok Berlebih':\n",
        "        return \"Tunda restock produk ini dan evaluasi penjualannya.\"\n",
        "    elif row['popularitas'] == 'Populer' and row['harga_kategori'] == 'Sedang':\n",
        "        return \"Pertahankan produk dengan harga dan popularitas saat ini.\"\n",
        "    else:\n",
        "        return \"Pertahankan strategi saat ini.\"\n",
        "\n",
        "df['Rekomendasi'] = df.apply(rekomendasi, axis=1)\n",
        "\n",
        "df[['nama_produk', 'harga_kategori','restock', 'popularitas', 'Rekomendasi']]"
      ]
    }
  ],
  "metadata": {
    "kernelspec": {
      "display_name": "Python 3 (ipykernel)",
      "language": "python",
      "name": "python3"
    },
    "language_info": {
      "codemirror_mode": {
        "name": "ipython",
        "version": 3
      },
      "file_extension": ".py",
      "mimetype": "text/x-python",
      "name": "python",
      "nbconvert_exporter": "python",
      "pygments_lexer": "ipython3",
      "version": "3.12.3"
    },
    "colab": {
      "provenance": [],
      "include_colab_link": true
    }
  },
  "nbformat": 4,
  "nbformat_minor": 5
}