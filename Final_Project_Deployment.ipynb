{
  "cells": [
    {
      "cell_type": "markdown",
      "metadata": {
        "id": "view-in-github",
        "colab_type": "text"
      },
      "source": [
        "<a href=\"https://colab.research.google.com/github/RFOXgithub/Sistem-Rekomendasi-Pengelolaan-Produk/blob/main/Final_Project_Deployment.ipynb\" target=\"_parent\"><img src=\"https://colab.research.google.com/assets/colab-badge.svg\" alt=\"Open In Colab\"/></a>"
      ]
    },
    {
      "cell_type": "code",
      "execution_count": 1,
      "metadata": {
        "id": "6fl7TDBHSag9",
        "colab": {
          "base_uri": "https://localhost:8080/"
        },
        "outputId": "3743e9ae-3100-48d7-e7f5-61e1d21994fd"
      },
      "outputs": [
        {
          "output_type": "stream",
          "name": "stdout",
          "text": [
            "\u001b[2K     \u001b[90m━━━━━━━━━━━━━━━━━━━━━━━━━━━━━━━━━━━━━━━━\u001b[0m \u001b[32m44.3/44.3 kB\u001b[0m \u001b[31m1.5 MB/s\u001b[0m eta \u001b[36m0:00:00\u001b[0m\n",
            "\u001b[2K   \u001b[90m━━━━━━━━━━━━━━━━━━━━━━━━━━━━━━━━━━━━━━━━\u001b[0m \u001b[32m9.1/9.1 MB\u001b[0m \u001b[31m18.2 MB/s\u001b[0m eta \u001b[36m0:00:00\u001b[0m\n",
            "\u001b[2K   \u001b[90m━━━━━━━━━━━━━━━━━━━━━━━━━━━━━━━━━━━━━━━━\u001b[0m \u001b[32m6.9/6.9 MB\u001b[0m \u001b[31m31.4 MB/s\u001b[0m eta \u001b[36m0:00:00\u001b[0m\n",
            "\u001b[2K   \u001b[90m━━━━━━━━━━━━━━━━━━━━━━━━━━━━━━━━━━━━━━━━\u001b[0m \u001b[32m79.1/79.1 kB\u001b[0m \u001b[31m2.4 MB/s\u001b[0m eta \u001b[36m0:00:00\u001b[0m\n",
            "\u001b[?25h"
          ]
        }
      ],
      "source": [
        "!pip install streamlit -q"
      ]
    },
    {
      "cell_type": "code",
      "execution_count": 6,
      "metadata": {
        "colab": {
          "base_uri": "https://localhost:8080/"
        },
        "id": "7lfYHxLzNcgF",
        "outputId": "05f3a11a-bb09-4f94-9e94-2f0232f8843c"
      },
      "outputs": [
        {
          "output_type": "stream",
          "name": "stdout",
          "text": [
            "Overwriting app.py\n"
          ]
        }
      ],
      "source": [
        "%%writefile app.py\n",
        "import streamlit as st\n",
        "import pickle\n",
        "import pandas as pd\n",
        "import numpy as np\n",
        "\n",
        "with open('rf_modelStock.pkl', 'rb') as f:\n",
        "    rf_modelStock = pickle.load(f)\n",
        "\n",
        "with open('rf_modelPrice.pkl', 'rb') as f:\n",
        "    rf_modelPrice = pickle.load(f)\n",
        "\n",
        "with open('rf_modelPopu.pkl', 'rb') as f:\n",
        "    rf_modelPopu = pickle.load(f)\n",
        "\n",
        "categories = [\n",
        "    'Elektronik', 'Lainnya', 'Perawatan Pribadi', 'Olahraga & Outdoor',\n",
        "    'Peralatan Rumah Tangga', 'Pakaian & Fashion', 'Kendaraan & Aksesori',\n",
        "    'Makanan & Minuman', 'Perhiasan & Aksesori', 'Mainan & Anak-Anak',\n",
        "    'Gadget & Elektronik Musik'\n",
        "]\n",
        "\n",
        "def prediction(df):\n",
        "    df['avg_harga_per_kategori'] = df.groupby('kategori')['harga'].transform('mean')\n",
        "    df['harga_per_rating'] = df['harga'] / (df['total_rating'] + 1)\n",
        "    df['harga_terjual'] = df['harga'] * df['terjual']\n",
        "    df['rasio_penjualan_stok'] = df['terjual'] / (df['stock'] + 1)\n",
        "    df['stok_terjual_ratio'] = df['stock'] / (df['terjual'] + 1)\n",
        "    df['stok_ideal'] = df['stok_terjual_ratio'] * df['stock']\n",
        "    df['stok_ideal'] = np.ceil(df['stok_ideal'])\n",
        "\n",
        "    df['harga_kategori_encoding'] = rf_modelPrice.predict(\n",
        "        df[['avg_harga_per_kategori', 'harga_per_rating', 'harga_terjual']]\n",
        "    )\n",
        "    df['restock_encoding'] = rf_modelStock.predict(\n",
        "        df[['stok_ideal', 'stok_terjual_ratio', 'rasio_penjualan_stok']]\n",
        "    )\n",
        "    df['popularitas_encoding'] = rf_modelPopu.predict(\n",
        "        df[['harga_per_rating', 'rasio_penjualan_stok', 'total_rating']]\n",
        "    )\n",
        "\n",
        "    harga_kategori_mapping = {0: 'Rendah', 1: 'Sedang', 2: 'Tinggi'}\n",
        "    restock_mapping = {1: 'Tidak Restock', 2: 'Restock', 0: 'Stok Berlebih'}\n",
        "    popularitas_mapping = {0: 'Tidak Populer', 1: 'Populer', 2: 'Sangat Populer'}\n",
        "\n",
        "    df['harga_kategori'] = df['harga_kategori_encoding'].map(harga_kategori_mapping)\n",
        "    df['restock'] = df['restock_encoding'].map(restock_mapping)\n",
        "    df['popularitas'] = df['popularitas_encoding'].map(popularitas_mapping)\n",
        "\n",
        "    def rekomendasi(row):\n",
        "        if row['restock'] == 'Restock':\n",
        "            return \"Segera lakukan restock produk ini.\"\n",
        "        elif row['harga_kategori'] == 'Tinggi' and row['popularitas'] == 'Sangat Populer':\n",
        "            return \"Lakukan promosi pada produk populer ini.\"\n",
        "        elif row['restock'] == 'Tidak Restock' and row['harga_kategori'] == 'Rendah':\n",
        "            return \"Evaluasi produk untuk diskon atau hapus dari katalog.\"\n",
        "        elif row['popularitas'] == 'Tidak Populer' and row['restock'] == 'Stok Berlebih':\n",
        "            return \"Tunda restock produk ini dan evaluasi penjualannya.\"\n",
        "        elif row['popularitas'] == 'Populer' and row['harga_kategori'] == 'Sedang':\n",
        "            return \"Pertahankan produk dengan harga dan popularitas saat ini.\"\n",
        "        else:\n",
        "            return \"Pertahankan strategi saat ini.\"\n",
        "\n",
        "    df['Rekomendasi'] = df.apply(rekomendasi, axis=1)\n",
        "    return df[['nama_produk', 'harga_kategori', 'restock', 'popularitas', 'Rekomendasi']]\n",
        "\n",
        "def main():\n",
        "    st.title(\"Sistem Rekomendasi Produk\")\n",
        "    st.markdown(\"\"\"\n",
        "    <div style=\"background-color:yellow;padding:13px\">\n",
        "    <h1 style=\"color:black; text-align:center;\">Aplikasi Analisis dan Rekomendasi Produk</h1>\n",
        "    </div>\n",
        "    \"\"\", unsafe_allow_html=True)\n",
        "\n",
        "    if 'hasil' not in st.session_state:\n",
        "        st.session_state['hasil'] = None\n",
        "\n",
        "    with st.form(key='my_form'):\n",
        "        nama_produk = st.text_input(\"Nama Produk\", key=\"nama_produk_key\")\n",
        "        kategori = st.selectbox(\"Pilih Kategori\", categories, key=\"kategori_key\")\n",
        "        harga = st.number_input(\"Harga\", min_value=0, step=1000, key=\"harga_key\")\n",
        "        total_rating = st.number_input(\"Total Rating\", min_value=0, step=1, key=\"rating_key\")\n",
        "        min_terjual = total_rating if total_rating > 0 else 0\n",
        "        terjual = st.number_input(\"Jumlah Terjual\", min_value=min_terjual, step=1, key=\"terjual_key\")\n",
        "        stock = st.number_input(\"Stock\", min_value=0, step=1, key=\"stock_key\")\n",
        "        submit_button = st.form_submit_button(label=\"Proses Rekomendasi\")\n",
        "\n",
        "    if submit_button:\n",
        "        kategori_index = categories.index(kategori) + 1\n",
        "        data_input = {\n",
        "            'nama_produk': [nama_produk],\n",
        "            'kategori': [kategori_index],\n",
        "            'harga': [harga],\n",
        "            'total_rating': [total_rating],\n",
        "            'terjual': [terjual],\n",
        "            'stock': [stock]\n",
        "        }\n",
        "        df = pd.DataFrame(data_input)\n",
        "        st.session_state['hasil'] = prediction(df)\n",
        "\n",
        "    if st.session_state['hasil'] is not None:\n",
        "        st.success(\"Berikut adalah hasil analisis produk:\")\n",
        "        st.dataframe(st.session_state['hasil'])\n",
        "\n",
        "if __name__ == '__main__':\n",
        "    main()"
      ]
    },
    {
      "cell_type": "code",
      "execution_count": 4,
      "metadata": {
        "colab": {
          "base_uri": "https://localhost:8080/"
        },
        "id": "h54VS-01N8aN",
        "outputId": "0215c2f5-5b38-4a41-bc79-4188724660c5"
      },
      "outputs": [
        {
          "output_type": "stream",
          "name": "stdout",
          "text": [
            "34.44.175.214\n"
          ]
        }
      ],
      "source": [
        "!wget -q -O - ipv4.icanhazip.com"
      ]
    },
    {
      "cell_type": "code",
      "execution_count": 7,
      "metadata": {
        "colab": {
          "base_uri": "https://localhost:8080/"
        },
        "id": "kpqsCzhSN-Id",
        "outputId": "9df34d33-b696-4beb-c3dc-76c7333e5bb1"
      },
      "outputs": [
        {
          "output_type": "stream",
          "name": "stdout",
          "text": [
            "\n",
            "Collecting usage statistics. To deactivate, set browser.gatherUsageStats to false.\n",
            "\u001b[0m\n",
            "\u001b[1G\u001b[0K⠙\u001b[1G\u001b[0K⠹\u001b[1G\u001b[0K⠸\u001b[0m\n",
            "\u001b[34m\u001b[1m  You can now view your Streamlit app in your browser.\u001b[0m\n",
            "\u001b[0m\n",
            "\u001b[34m  Local URL: \u001b[0m\u001b[1mhttp://localhost:8501\u001b[0m\n",
            "\u001b[34m  Network URL: \u001b[0m\u001b[1mhttp://172.28.0.12:8501\u001b[0m\n",
            "\u001b[34m  External URL: \u001b[0m\u001b[1mhttp://34.44.175.214:8501\u001b[0m\n",
            "\u001b[0m\n",
            "\u001b[1G\u001b[0K⠼\u001b[1G\u001b[0K⠴\u001b[1G\u001b[0Kyour url is: https://twenty-insects-dance.loca.lt\n",
            "/usr/local/lib/python3.10/dist-packages/sklearn/base.py:376: InconsistentVersionWarning: Trying to unpickle estimator DecisionTreeClassifier from version 1.4.2 when using version 1.5.2. This might lead to breaking code or invalid results. Use at your own risk. For more info please refer to:\n",
            "https://scikit-learn.org/stable/model_persistence.html#security-maintainability-limitations\n",
            "  warnings.warn(\n",
            "/usr/local/lib/python3.10/dist-packages/sklearn/base.py:376: InconsistentVersionWarning: Trying to unpickle estimator RandomForestClassifier from version 1.4.2 when using version 1.5.2. This might lead to breaking code or invalid results. Use at your own risk. For more info please refer to:\n",
            "https://scikit-learn.org/stable/model_persistence.html#security-maintainability-limitations\n",
            "  warnings.warn(\n",
            "/usr/local/lib/python3.10/dist-packages/sklearn/base.py:376: InconsistentVersionWarning: Trying to unpickle estimator DecisionTreeClassifier from version 1.4.2 when using version 1.5.2. This might lead to breaking code or invalid results. Use at your own risk. For more info please refer to:\n",
            "https://scikit-learn.org/stable/model_persistence.html#security-maintainability-limitations\n",
            "  warnings.warn(\n",
            "/usr/local/lib/python3.10/dist-packages/sklearn/base.py:376: InconsistentVersionWarning: Trying to unpickle estimator RandomForestClassifier from version 1.4.2 when using version 1.5.2. This might lead to breaking code or invalid results. Use at your own risk. For more info please refer to:\n",
            "https://scikit-learn.org/stable/model_persistence.html#security-maintainability-limitations\n",
            "  warnings.warn(\n",
            "/usr/local/lib/python3.10/dist-packages/sklearn/base.py:376: InconsistentVersionWarning: Trying to unpickle estimator DecisionTreeClassifier from version 1.4.2 when using version 1.5.2. This might lead to breaking code or invalid results. Use at your own risk. For more info please refer to:\n",
            "https://scikit-learn.org/stable/model_persistence.html#security-maintainability-limitations\n",
            "  warnings.warn(\n",
            "/usr/local/lib/python3.10/dist-packages/sklearn/base.py:376: InconsistentVersionWarning: Trying to unpickle estimator RandomForestClassifier from version 1.4.2 when using version 1.5.2. This might lead to breaking code or invalid results. Use at your own risk. For more info please refer to:\n",
            "https://scikit-learn.org/stable/model_persistence.html#security-maintainability-limitations\n",
            "  warnings.warn(\n",
            "/usr/local/lib/python3.10/dist-packages/sklearn/base.py:376: InconsistentVersionWarning: Trying to unpickle estimator DecisionTreeClassifier from version 1.4.2 when using version 1.5.2. This might lead to breaking code or invalid results. Use at your own risk. For more info please refer to:\n",
            "https://scikit-learn.org/stable/model_persistence.html#security-maintainability-limitations\n",
            "  warnings.warn(\n",
            "/usr/local/lib/python3.10/dist-packages/sklearn/base.py:376: InconsistentVersionWarning: Trying to unpickle estimator RandomForestClassifier from version 1.4.2 when using version 1.5.2. This might lead to breaking code or invalid results. Use at your own risk. For more info please refer to:\n",
            "https://scikit-learn.org/stable/model_persistence.html#security-maintainability-limitations\n",
            "  warnings.warn(\n",
            "/usr/local/lib/python3.10/dist-packages/sklearn/base.py:376: InconsistentVersionWarning: Trying to unpickle estimator DecisionTreeClassifier from version 1.4.2 when using version 1.5.2. This might lead to breaking code or invalid results. Use at your own risk. For more info please refer to:\n",
            "https://scikit-learn.org/stable/model_persistence.html#security-maintainability-limitations\n",
            "  warnings.warn(\n",
            "/usr/local/lib/python3.10/dist-packages/sklearn/base.py:376: InconsistentVersionWarning: Trying to unpickle estimator RandomForestClassifier from version 1.4.2 when using version 1.5.2. This might lead to breaking code or invalid results. Use at your own risk. For more info please refer to:\n",
            "https://scikit-learn.org/stable/model_persistence.html#security-maintainability-limitations\n",
            "  warnings.warn(\n",
            "/usr/local/lib/python3.10/dist-packages/sklearn/base.py:376: InconsistentVersionWarning: Trying to unpickle estimator DecisionTreeClassifier from version 1.4.2 when using version 1.5.2. This might lead to breaking code or invalid results. Use at your own risk. For more info please refer to:\n",
            "https://scikit-learn.org/stable/model_persistence.html#security-maintainability-limitations\n",
            "  warnings.warn(\n",
            "/usr/local/lib/python3.10/dist-packages/sklearn/base.py:376: InconsistentVersionWarning: Trying to unpickle estimator RandomForestClassifier from version 1.4.2 when using version 1.5.2. This might lead to breaking code or invalid results. Use at your own risk. For more info please refer to:\n",
            "https://scikit-learn.org/stable/model_persistence.html#security-maintainability-limitations\n",
            "  warnings.warn(\n",
            "/usr/local/lib/python3.10/dist-packages/sklearn/base.py:376: InconsistentVersionWarning: Trying to unpickle estimator DecisionTreeClassifier from version 1.4.2 when using version 1.5.2. This might lead to breaking code or invalid results. Use at your own risk. For more info please refer to:\n",
            "https://scikit-learn.org/stable/model_persistence.html#security-maintainability-limitations\n",
            "  warnings.warn(\n",
            "/usr/local/lib/python3.10/dist-packages/sklearn/base.py:376: InconsistentVersionWarning: Trying to unpickle estimator RandomForestClassifier from version 1.4.2 when using version 1.5.2. This might lead to breaking code or invalid results. Use at your own risk. For more info please refer to:\n",
            "https://scikit-learn.org/stable/model_persistence.html#security-maintainability-limitations\n",
            "  warnings.warn(\n",
            "\u001b[34m  Stopping...\u001b[0m\n",
            "^C\n"
          ]
        }
      ],
      "source": [
        "!streamlit run app.py & npx localtunnel --port 8501"
      ]
    }
  ],
  "metadata": {
    "colab": {
      "provenance": [],
      "authorship_tag": "ABX9TyN+QzLDpNaq9/W6vgD+GGkr",
      "include_colab_link": true
    },
    "kernelspec": {
      "display_name": "Python 3",
      "name": "python3"
    },
    "language_info": {
      "name": "python"
    }
  },
  "nbformat": 4,
  "nbformat_minor": 0
}